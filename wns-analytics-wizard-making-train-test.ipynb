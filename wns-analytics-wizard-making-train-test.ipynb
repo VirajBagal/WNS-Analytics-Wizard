{
 "cells": [
  {
   "cell_type": "code",
   "execution_count": 1,
   "metadata": {
    "_cell_guid": "b1076dfc-b9ad-4769-8c92-a6c4dae69d19",
    "_uuid": "8f2839f25d086af736a60e9eeb907d3b93b6e0e5"
   },
   "outputs": [
    {
     "name": "stdout",
     "output_type": "stream",
     "text": [
      "/kaggle/input/wns-analyticswizard/test_aq1fgdb/test.csv\n",
      "/kaggle/input/wns-analyticswizard/train_na17sgz/view_log.csv\n",
      "/kaggle/input/wns-analyticswizard/train_na17sgz/item_data.csv\n",
      "/kaggle/input/wns-analyticswizard/train_na17sgz/train.csv\n",
      "/kaggle/input/wns-analyticswizard/sample_submission_ipsblct/sample_submission.csv\n"
     ]
    }
   ],
   "source": [
    "# This Python 3 environment comes with many helpful analytics libraries installed\n",
    "# It is defined by the kaggle/python docker image: https://github.com/kaggle/docker-python\n",
    "# For example, here's several helpful packages to load in \n",
    "\n",
    "import numpy as np # linear algebra\n",
    "import pandas as pd # data processing, CSV file I/O (e.g. pd.read_csv)\n",
    "import datetime\n",
    "from xgboost import XGBClassifier\n",
    "from sklearn.model_selection import train_test_split, KFold, StratifiedKFold\n",
    "from sklearn.metrics import roc_auc_score\n",
    "import seaborn as sns\n",
    "import matplotlib.pyplot as plt\n",
    "%matplotlib inline\n",
    "from sklearn.preprocessing import LabelEncoder\n",
    "import warnings\n",
    "warnings.filterwarnings('ignore')\n",
    "import gc\n",
    "# Input data files are available in the \"../input/\" directory.\n",
    "# For example, running this (by clicking run or pressing Shift+Enter) will list all files under the input directory\n",
    "\n",
    "import os\n",
    "for dirname, _, filenames in os.walk('/kaggle/input'):\n",
    "    for filename in filenames:\n",
    "        print(os.path.join(dirname, filename))\n",
    "\n",
    "# Any results you write to the current directory are saved as output\n",
    "seed = 2019"
   ]
  },
  {
   "cell_type": "code",
   "execution_count": 2,
   "metadata": {
    "_cell_guid": "79c7e3d0-c299-4dcb-8224-4455121ee9b0",
    "_uuid": "d629ff2d2480ee46fbb7e2d37f6b5fab8052498a"
   },
   "outputs": [],
   "source": [
    "train = pd.read_csv('../input/wns-analyticswizard/train_na17sgz/train.csv', parse_dates = ['impression_time'])\n",
    "view_log = pd.read_csv('../input/wns-analyticswizard/train_na17sgz/view_log.csv', parse_dates = ['server_time'])\n",
    "item_data = pd.read_csv('../input/wns-analyticswizard/train_na17sgz/item_data.csv')\n",
    "test = pd.read_csv('../input/wns-analyticswizard/test_aq1fgdb/test.csv', parse_dates = ['impression_time'])"
   ]
  },
  {
   "cell_type": "code",
   "execution_count": 3,
   "metadata": {},
   "outputs": [],
   "source": [
    "# train = train.sort_values(by='impression_time')\n",
    "# view_log = view_log.sort_values(by='server_time')\n",
    "# test = test.sort_values(by='impression_time')"
   ]
  },
  {
   "cell_type": "code",
   "execution_count": 4,
   "metadata": {},
   "outputs": [
    {
     "data": {
      "text/html": [
       "<div>\n",
       "<style scoped>\n",
       "    .dataframe tbody tr th:only-of-type {\n",
       "        vertical-align: middle;\n",
       "    }\n",
       "\n",
       "    .dataframe tbody tr th {\n",
       "        vertical-align: top;\n",
       "    }\n",
       "\n",
       "    .dataframe thead th {\n",
       "        text-align: right;\n",
       "    }\n",
       "</style>\n",
       "<table border=\"1\" class=\"dataframe\">\n",
       "  <thead>\n",
       "    <tr style=\"text-align: right;\">\n",
       "      <th></th>\n",
       "      <th>impression_id</th>\n",
       "      <th>impression_time</th>\n",
       "      <th>user_id</th>\n",
       "      <th>app_code</th>\n",
       "      <th>os_version</th>\n",
       "      <th>is_4G</th>\n",
       "      <th>is_click</th>\n",
       "    </tr>\n",
       "  </thead>\n",
       "  <tbody>\n",
       "    <tr>\n",
       "      <th>0</th>\n",
       "      <td>c4ca4238a0b923820dcc509a6f75849b</td>\n",
       "      <td>2018-11-15 00:00:00</td>\n",
       "      <td>87862</td>\n",
       "      <td>422</td>\n",
       "      <td>old</td>\n",
       "      <td>0</td>\n",
       "      <td>0</td>\n",
       "    </tr>\n",
       "    <tr>\n",
       "      <th>1</th>\n",
       "      <td>45c48cce2e2d7fbdea1afc51c7c6ad26</td>\n",
       "      <td>2018-11-15 00:01:00</td>\n",
       "      <td>63410</td>\n",
       "      <td>467</td>\n",
       "      <td>latest</td>\n",
       "      <td>1</td>\n",
       "      <td>1</td>\n",
       "    </tr>\n",
       "    <tr>\n",
       "      <th>2</th>\n",
       "      <td>70efdf2ec9b086079795c442636b55fb</td>\n",
       "      <td>2018-11-15 00:02:00</td>\n",
       "      <td>71748</td>\n",
       "      <td>259</td>\n",
       "      <td>intermediate</td>\n",
       "      <td>1</td>\n",
       "      <td>0</td>\n",
       "    </tr>\n",
       "    <tr>\n",
       "      <th>3</th>\n",
       "      <td>8e296a067a37563370ded05f5a3bf3ec</td>\n",
       "      <td>2018-11-15 00:02:00</td>\n",
       "      <td>69209</td>\n",
       "      <td>244</td>\n",
       "      <td>latest</td>\n",
       "      <td>1</td>\n",
       "      <td>0</td>\n",
       "    </tr>\n",
       "    <tr>\n",
       "      <th>4</th>\n",
       "      <td>182be0c5cdcd5072bb1864cdee4d3d6e</td>\n",
       "      <td>2018-11-15 00:02:00</td>\n",
       "      <td>62873</td>\n",
       "      <td>473</td>\n",
       "      <td>latest</td>\n",
       "      <td>0</td>\n",
       "      <td>0</td>\n",
       "    </tr>\n",
       "  </tbody>\n",
       "</table>\n",
       "</div>"
      ],
      "text/plain": [
       "                      impression_id     impression_time  user_id  app_code  \\\n",
       "0  c4ca4238a0b923820dcc509a6f75849b 2018-11-15 00:00:00    87862       422   \n",
       "1  45c48cce2e2d7fbdea1afc51c7c6ad26 2018-11-15 00:01:00    63410       467   \n",
       "2  70efdf2ec9b086079795c442636b55fb 2018-11-15 00:02:00    71748       259   \n",
       "3  8e296a067a37563370ded05f5a3bf3ec 2018-11-15 00:02:00    69209       244   \n",
       "4  182be0c5cdcd5072bb1864cdee4d3d6e 2018-11-15 00:02:00    62873       473   \n",
       "\n",
       "     os_version  is_4G  is_click  \n",
       "0           old      0         0  \n",
       "1        latest      1         1  \n",
       "2  intermediate      1         0  \n",
       "3        latest      1         0  \n",
       "4        latest      0         0  "
      ]
     },
     "execution_count": 4,
     "metadata": {},
     "output_type": "execute_result"
    }
   ],
   "source": [
    "train.head()"
   ]
  },
  {
   "cell_type": "code",
   "execution_count": 5,
   "metadata": {},
   "outputs": [],
   "source": [
    "train['month'] = train['impression_time'].dt.month\n",
    "train['date'] = train['impression_time'].dt.day\n",
    "train['hour'] = train['impression_time'].dt.hour\n",
    "train['minute'] = train['impression_time'].dt.minute\n",
    "\n",
    "test['month'] = test['impression_time'].dt.month\n",
    "test['date'] = test['impression_time'].dt.day\n",
    "test['hour'] = test['impression_time'].dt.hour\n",
    "test['minute'] = test['impression_time'].dt.minute"
   ]
  },
  {
   "cell_type": "code",
   "execution_count": 6,
   "metadata": {},
   "outputs": [],
   "source": [
    "ntrain= train.shape[0]\n",
    "df = pd.concat([train, test], ignore_index= True, axis=0)"
   ]
  },
  {
   "cell_type": "code",
   "execution_count": 7,
   "metadata": {},
   "outputs": [],
   "source": [
    "ad_iter = np.zeros(len(df))\n",
    "\n",
    "for user in df['user_id'].unique():\n",
    "    indices = df[df['user_id'] == user].index\n",
    "    for i in range(len(indices)):\n",
    "        ad_iter[indices[i]] = i + 1"
   ]
  },
  {
   "cell_type": "code",
   "execution_count": 8,
   "metadata": {},
   "outputs": [],
   "source": [
    "df['ad_iter'] = pd.Series(ad_iter)"
   ]
  },
  {
   "cell_type": "code",
   "execution_count": 9,
   "metadata": {},
   "outputs": [],
   "source": [
    "df['ad_delta'] = df.groupby('user_id')['impression_time'].diff().dt.total_seconds()/60"
   ]
  },
  {
   "cell_type": "code",
   "execution_count": 10,
   "metadata": {},
   "outputs": [],
   "source": [
    "# X = pd.get_dummies(train['os_version'])\n",
    "# train = train.drop('os_version',1)\n",
    "# train = pd.concat([train, X], axis=1)\n",
    "\n",
    "# X = pd.get_dummies(test['os_version'])\n",
    "# test = test.drop('os_version',1)\n",
    "# test = pd.concat([test, X], axis=1)"
   ]
  },
  {
   "cell_type": "code",
   "execution_count": 11,
   "metadata": {},
   "outputs": [
    {
     "data": {
      "text/html": [
       "<div>\n",
       "<style scoped>\n",
       "    .dataframe tbody tr th:only-of-type {\n",
       "        vertical-align: middle;\n",
       "    }\n",
       "\n",
       "    .dataframe tbody tr th {\n",
       "        vertical-align: top;\n",
       "    }\n",
       "\n",
       "    .dataframe thead th {\n",
       "        text-align: right;\n",
       "    }\n",
       "</style>\n",
       "<table border=\"1\" class=\"dataframe\">\n",
       "  <thead>\n",
       "    <tr style=\"text-align: right;\">\n",
       "      <th></th>\n",
       "      <th>server_time</th>\n",
       "      <th>device_type</th>\n",
       "      <th>session_id</th>\n",
       "      <th>user_id</th>\n",
       "      <th>item_id</th>\n",
       "    </tr>\n",
       "  </thead>\n",
       "  <tbody>\n",
       "    <tr>\n",
       "      <th>0</th>\n",
       "      <td>2018-10-15 08:58:00</td>\n",
       "      <td>android</td>\n",
       "      <td>112333</td>\n",
       "      <td>4557</td>\n",
       "      <td>32970</td>\n",
       "    </tr>\n",
       "    <tr>\n",
       "      <th>1</th>\n",
       "      <td>2018-10-15 08:58:00</td>\n",
       "      <td>android</td>\n",
       "      <td>503590</td>\n",
       "      <td>74788</td>\n",
       "      <td>7640</td>\n",
       "    </tr>\n",
       "    <tr>\n",
       "      <th>2</th>\n",
       "      <td>2018-10-15 08:58:00</td>\n",
       "      <td>android</td>\n",
       "      <td>573960</td>\n",
       "      <td>23628</td>\n",
       "      <td>128855</td>\n",
       "    </tr>\n",
       "    <tr>\n",
       "      <th>3</th>\n",
       "      <td>2018-10-15 08:58:00</td>\n",
       "      <td>android</td>\n",
       "      <td>121691</td>\n",
       "      <td>2430</td>\n",
       "      <td>12774</td>\n",
       "    </tr>\n",
       "    <tr>\n",
       "      <th>4</th>\n",
       "      <td>2018-10-15 08:58:00</td>\n",
       "      <td>android</td>\n",
       "      <td>218564</td>\n",
       "      <td>19227</td>\n",
       "      <td>28296</td>\n",
       "    </tr>\n",
       "  </tbody>\n",
       "</table>\n",
       "</div>"
      ],
      "text/plain": [
       "          server_time device_type  session_id  user_id  item_id\n",
       "0 2018-10-15 08:58:00     android      112333     4557    32970\n",
       "1 2018-10-15 08:58:00     android      503590    74788     7640\n",
       "2 2018-10-15 08:58:00     android      573960    23628   128855\n",
       "3 2018-10-15 08:58:00     android      121691     2430    12774\n",
       "4 2018-10-15 08:58:00     android      218564    19227    28296"
      ]
     },
     "execution_count": 11,
     "metadata": {},
     "output_type": "execute_result"
    }
   ],
   "source": [
    "view_log.head()"
   ]
  },
  {
   "cell_type": "code",
   "execution_count": 12,
   "metadata": {},
   "outputs": [],
   "source": [
    "df['item_id'] = -1"
   ]
  },
  {
   "cell_type": "code",
   "execution_count": 13,
   "metadata": {},
   "outputs": [],
   "source": [
    "for user in df['user_id'].unique():\n",
    "    X = df[df['user_id']==user]['impression_time']\n",
    "    X_log = view_log[view_log['user_id']==user][['server_time','item_id']]\n",
    "    for time in X:\n",
    "        index = X[X == time].index\n",
    "        valid = X_log[X_log['server_time'] < time].index\n",
    "        if len(valid) > 0:\n",
    "            item = X_log['item_id'][valid[-1]]\n",
    "            df['item_id'][index] = item\n",
    "        else:\n",
    "            continue"
   ]
  },
  {
   "cell_type": "code",
   "execution_count": 14,
   "metadata": {},
   "outputs": [],
   "source": [
    "df['time_elapsed'] = -1"
   ]
  },
  {
   "cell_type": "code",
   "execution_count": 15,
   "metadata": {},
   "outputs": [],
   "source": [
    "for user in df['user_id'].unique():\n",
    "    X = df[df['user_id']==user]['impression_time']\n",
    "    X_log = view_log[view_log['user_id']==user]['server_time']\n",
    "    for time in X:\n",
    "        index = X[X == time].index\n",
    "        valid = list(X_log[X_log < time])\n",
    "        if len(valid) > 0:\n",
    "            time_elapsed = (time - valid[-1]).total_seconds()/60\n",
    "            df['time_elapsed'][index] = time_elapsed\n",
    "        else:\n",
    "            continue"
   ]
  },
  {
   "cell_type": "code",
   "execution_count": 16,
   "metadata": {},
   "outputs": [],
   "source": [
    "df['total_visits'] = -1"
   ]
  },
  {
   "cell_type": "code",
   "execution_count": 17,
   "metadata": {},
   "outputs": [],
   "source": [
    "for user in df['user_id'].unique():\n",
    "    X = df[df['user_id']==user][['impression_time','item_id']]\n",
    "    X_log = view_log[view_log['user_id']==user][['server_time','item_id']]\n",
    "    for index,row in X.iterrows():\n",
    "        valid = X_log[(X_log['server_time'] < row['impression_time']) & (X_log['item_id']== row['item_id'])]\n",
    "        if len(valid) > 0:\n",
    "            df['total_visits'][index] = len(valid)\n",
    "        else:\n",
    "            continue"
   ]
  },
  {
   "cell_type": "code",
   "execution_count": 18,
   "metadata": {},
   "outputs": [],
   "source": [
    "# train['total_visits'] = -1"
   ]
  },
  {
   "cell_type": "code",
   "execution_count": 19,
   "metadata": {},
   "outputs": [],
   "source": [
    "# for user in train['user_id'].unique():\n",
    "#     X = train[train['user_id']==user][['impression_time','item_id']]\n",
    "#     X_log = view_log[view_log['user_id']==user][['server_time','item_id']]\n",
    "#     for index,row in X.iterrows():\n",
    "# #         index = X[X['impression_time'] == time].index\n",
    "#         valid = X_log[(X_log['server_time'] < row['impression_time']) & (X_log['item_id']== row['item_id'])]\n",
    "#         if len(valid) > 0:\n",
    "#             train['total_visits'][index] = len(valid)\n",
    "#         else:\n",
    "#             continue"
   ]
  },
  {
   "cell_type": "code",
   "execution_count": 20,
   "metadata": {},
   "outputs": [
    {
     "data": {
      "text/html": [
       "<div>\n",
       "<style scoped>\n",
       "    .dataframe tbody tr th:only-of-type {\n",
       "        vertical-align: middle;\n",
       "    }\n",
       "\n",
       "    .dataframe tbody tr th {\n",
       "        vertical-align: top;\n",
       "    }\n",
       "\n",
       "    .dataframe thead th {\n",
       "        text-align: right;\n",
       "    }\n",
       "</style>\n",
       "<table border=\"1\" class=\"dataframe\">\n",
       "  <thead>\n",
       "    <tr style=\"text-align: right;\">\n",
       "      <th></th>\n",
       "      <th>app_code</th>\n",
       "      <th>date</th>\n",
       "      <th>hour</th>\n",
       "      <th>impression_id</th>\n",
       "      <th>impression_time</th>\n",
       "      <th>is_4G</th>\n",
       "      <th>is_click</th>\n",
       "      <th>minute</th>\n",
       "      <th>month</th>\n",
       "      <th>os_version</th>\n",
       "      <th>user_id</th>\n",
       "      <th>ad_iter</th>\n",
       "      <th>ad_delta</th>\n",
       "      <th>item_id</th>\n",
       "      <th>time_elapsed</th>\n",
       "      <th>total_visits</th>\n",
       "    </tr>\n",
       "  </thead>\n",
       "  <tbody>\n",
       "    <tr>\n",
       "      <th>0</th>\n",
       "      <td>422</td>\n",
       "      <td>15</td>\n",
       "      <td>0</td>\n",
       "      <td>c4ca4238a0b923820dcc509a6f75849b</td>\n",
       "      <td>2018-11-15 00:00:00</td>\n",
       "      <td>0</td>\n",
       "      <td>0.0</td>\n",
       "      <td>0</td>\n",
       "      <td>11</td>\n",
       "      <td>old</td>\n",
       "      <td>87862</td>\n",
       "      <td>1.0</td>\n",
       "      <td>NaN</td>\n",
       "      <td>43886</td>\n",
       "      <td>37789.0</td>\n",
       "      <td>1</td>\n",
       "    </tr>\n",
       "    <tr>\n",
       "      <th>1</th>\n",
       "      <td>467</td>\n",
       "      <td>15</td>\n",
       "      <td>0</td>\n",
       "      <td>45c48cce2e2d7fbdea1afc51c7c6ad26</td>\n",
       "      <td>2018-11-15 00:01:00</td>\n",
       "      <td>1</td>\n",
       "      <td>1.0</td>\n",
       "      <td>1</td>\n",
       "      <td>11</td>\n",
       "      <td>latest</td>\n",
       "      <td>63410</td>\n",
       "      <td>1.0</td>\n",
       "      <td>NaN</td>\n",
       "      <td>43209</td>\n",
       "      <td>29938.0</td>\n",
       "      <td>5</td>\n",
       "    </tr>\n",
       "    <tr>\n",
       "      <th>2</th>\n",
       "      <td>259</td>\n",
       "      <td>15</td>\n",
       "      <td>0</td>\n",
       "      <td>70efdf2ec9b086079795c442636b55fb</td>\n",
       "      <td>2018-11-15 00:02:00</td>\n",
       "      <td>1</td>\n",
       "      <td>0.0</td>\n",
       "      <td>2</td>\n",
       "      <td>11</td>\n",
       "      <td>intermediate</td>\n",
       "      <td>71748</td>\n",
       "      <td>1.0</td>\n",
       "      <td>NaN</td>\n",
       "      <td>122348</td>\n",
       "      <td>32343.0</td>\n",
       "      <td>1</td>\n",
       "    </tr>\n",
       "    <tr>\n",
       "      <th>3</th>\n",
       "      <td>244</td>\n",
       "      <td>15</td>\n",
       "      <td>0</td>\n",
       "      <td>8e296a067a37563370ded05f5a3bf3ec</td>\n",
       "      <td>2018-11-15 00:02:00</td>\n",
       "      <td>1</td>\n",
       "      <td>0.0</td>\n",
       "      <td>2</td>\n",
       "      <td>11</td>\n",
       "      <td>latest</td>\n",
       "      <td>69209</td>\n",
       "      <td>1.0</td>\n",
       "      <td>NaN</td>\n",
       "      <td>104035</td>\n",
       "      <td>301.0</td>\n",
       "      <td>1</td>\n",
       "    </tr>\n",
       "    <tr>\n",
       "      <th>4</th>\n",
       "      <td>473</td>\n",
       "      <td>15</td>\n",
       "      <td>0</td>\n",
       "      <td>182be0c5cdcd5072bb1864cdee4d3d6e</td>\n",
       "      <td>2018-11-15 00:02:00</td>\n",
       "      <td>0</td>\n",
       "      <td>0.0</td>\n",
       "      <td>2</td>\n",
       "      <td>11</td>\n",
       "      <td>latest</td>\n",
       "      <td>62873</td>\n",
       "      <td>1.0</td>\n",
       "      <td>NaN</td>\n",
       "      <td>4069</td>\n",
       "      <td>140.0</td>\n",
       "      <td>1</td>\n",
       "    </tr>\n",
       "  </tbody>\n",
       "</table>\n",
       "</div>"
      ],
      "text/plain": [
       "   app_code  date  hour                     impression_id     impression_time  \\\n",
       "0       422    15     0  c4ca4238a0b923820dcc509a6f75849b 2018-11-15 00:00:00   \n",
       "1       467    15     0  45c48cce2e2d7fbdea1afc51c7c6ad26 2018-11-15 00:01:00   \n",
       "2       259    15     0  70efdf2ec9b086079795c442636b55fb 2018-11-15 00:02:00   \n",
       "3       244    15     0  8e296a067a37563370ded05f5a3bf3ec 2018-11-15 00:02:00   \n",
       "4       473    15     0  182be0c5cdcd5072bb1864cdee4d3d6e 2018-11-15 00:02:00   \n",
       "\n",
       "   is_4G  is_click  minute  month    os_version  user_id  ad_iter  ad_delta  \\\n",
       "0      0       0.0       0     11           old    87862      1.0       NaN   \n",
       "1      1       1.0       1     11        latest    63410      1.0       NaN   \n",
       "2      1       0.0       2     11  intermediate    71748      1.0       NaN   \n",
       "3      1       0.0       2     11        latest    69209      1.0       NaN   \n",
       "4      0       0.0       2     11        latest    62873      1.0       NaN   \n",
       "\n",
       "   item_id  time_elapsed  total_visits  \n",
       "0    43886       37789.0             1  \n",
       "1    43209       29938.0             5  \n",
       "2   122348       32343.0             1  \n",
       "3   104035         301.0             1  \n",
       "4     4069         140.0             1  "
      ]
     },
     "execution_count": 20,
     "metadata": {},
     "output_type": "execute_result"
    }
   ],
   "source": [
    "df.head()"
   ]
  },
  {
   "cell_type": "code",
   "execution_count": 21,
   "metadata": {},
   "outputs": [],
   "source": [
    "df = df.replace(-1, np.nan)"
   ]
  },
  {
   "cell_type": "code",
   "execution_count": 22,
   "metadata": {},
   "outputs": [],
   "source": [
    "train = df.iloc[:ntrain, :]\n",
    "test = df.iloc[ntrain:, :]\n",
    "\n",
    "if 'is_click' in test.columns:\n",
    "    test = test.drop('is_click',1)"
   ]
  },
  {
   "cell_type": "code",
   "execution_count": 23,
   "metadata": {},
   "outputs": [
    {
     "name": "stdout",
     "output_type": "stream",
     "text": [
      "237609\n",
      "(237609, 16)\n",
      "(90675, 15)\n"
     ]
    }
   ],
   "source": [
    "print(ntrain)\n",
    "print(train.shape)\n",
    "print(test.shape)"
   ]
  },
  {
   "cell_type": "code",
   "execution_count": 24,
   "metadata": {},
   "outputs": [],
   "source": [
    "train.to_csv('wns_train.csv', index=False)\n",
    "test.to_csv('wns_test.csv', index=False)"
   ]
  },
  {
   "cell_type": "code",
   "execution_count": 25,
   "metadata": {},
   "outputs": [],
   "source": [
    "# target = train['is_click']\n",
    "# train = train.drop(['impression_id','impression_time','is_click'],1)\n",
    "\n",
    "# test = test.drop(['impression_id','impression_time','is_click'], 1)"
   ]
  },
  {
   "cell_type": "code",
   "execution_count": 26,
   "metadata": {},
   "outputs": [],
   "source": [
    "# def group_noise(col):\n",
    "#     valid = train[col].value_counts()\n",
    "#     valid = valid[valid>10].index\n",
    "    \n",
    "#     train[col] = np.where(train[col].isin(valid),train[col],np.nan)\n",
    "#     test[col] = np.where(test[col].isin(valid),test[col],np.nan)\n",
    "    \n",
    "#     return train[col], test[col]"
   ]
  },
  {
   "cell_type": "code",
   "execution_count": 27,
   "metadata": {},
   "outputs": [],
   "source": [
    "# train['ad_iter'], test['ad_iter'] = group_noise('ad_iter')"
   ]
  },
  {
   "cell_type": "code",
   "execution_count": 28,
   "metadata": {},
   "outputs": [],
   "source": [
    "# n_folds = 5\n",
    "# skfold = StratifiedKFold(n_splits = n_folds, random_state = seed)\n",
    "# kfold = KFold(n_splits = n_folds, random_state = seed)\n",
    "\n",
    "# oof = np.zeros(len(train))\n",
    "# pred = np.zeros(len(test))\n",
    "# scores=[]\n",
    "# feat_imp = pd.DataFrame()\n",
    "# feat_imp['features'] = train.columns\n",
    "# feat_imp['importance'] = 0"
   ]
  },
  {
   "cell_type": "code",
   "execution_count": 29,
   "metadata": {},
   "outputs": [],
   "source": [
    "\n",
    "\n",
    "# for fold_n, (train_index, valid_index) in enumerate(skfold.split(train, target)):\n",
    "    \n",
    "#     print('Fold ',fold_n + 1)\n",
    "    \n",
    "#     xgbclf = XGBClassifier(\n",
    "#         n_estimators=1000,\n",
    "#         max_depth=3,\n",
    "#         learning_rate=0.1,\n",
    "#         subsample=1,\n",
    "#         colsample_bytree=1,\n",
    "#         random_state = seed\n",
    "# #         tree_method='gpu_hist'  # THE MAGICAL PARAMETER\n",
    "#     )\n",
    "    \n",
    "#     X_train_, X_valid = train.iloc[train_index], train.iloc[valid_index]\n",
    "#     y_train_, y_valid = target.iloc[train_index], target.iloc[valid_index]\n",
    "#     xgbclf.fit(X_train_,y_train_, early_stopping_rounds = 50, eval_set=[(X_train_,y_train_),(X_valid, y_valid)], eval_metric = 'auc', verbose = 50)\n",
    "#     del X_train_,y_train_\n",
    "#     pred += xgbclf.predict_proba(test)[:,1]/n_folds\n",
    "#     val=xgbclf.predict_proba(X_valid)[:,1]\n",
    "#     oof[valid_index] = val\n",
    "#     scores.append(roc_auc_score(y_valid, val))\n",
    "#     feat_imp['importance'] += xgbclf.feature_importances_/n_folds\n",
    "#     del xgbclf, X_valid\n",
    "#     print('ROC accuracy: {}'.format(roc_auc_score(y_valid, val)))\n",
    "#     del val,y_valid\n",
    "#     gc.collect()\n",
    "\n",
    "# print('Mean CV ', np.mean(scores))"
   ]
  },
  {
   "cell_type": "code",
   "execution_count": 30,
   "metadata": {},
   "outputs": [],
   "source": [
    "# sub = pd.read_csv('../input/wns-analyticswizard/sample_submission_ipsblct/sample_submission.csv')\n",
    "# sub['is_click'] = pd.Series(pred)\n",
    "# sub.to_csv('second_sub.csv', index=False)"
   ]
  },
  {
   "cell_type": "code",
   "execution_count": 31,
   "metadata": {},
   "outputs": [],
   "source": [
    "# feat_imp.to_csv('Feat_imp_sub1.csv',index=False)"
   ]
  },
  {
   "cell_type": "code",
   "execution_count": 32,
   "metadata": {},
   "outputs": [],
   "source": [
    "# df=feat_imp.sort_values(by='importance', ascending=False)\n",
    "# plt.figure(figsize=(10,10))\n",
    "# sns.barplot(data= df, x=df['importance'], y=df['features'])\n",
    "# plt.title('Feature Importances')"
   ]
  }
 ],
 "metadata": {
  "kernelspec": {
   "display_name": "Python 3",
   "language": "python",
   "name": "python3"
  },
  "language_info": {
   "codemirror_mode": {
    "name": "ipython",
    "version": 3
   },
   "file_extension": ".py",
   "mimetype": "text/x-python",
   "name": "python",
   "nbconvert_exporter": "python",
   "pygments_lexer": "ipython3",
   "version": "3.6.6"
  }
 },
 "nbformat": 4,
 "nbformat_minor": 1
}
